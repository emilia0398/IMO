{
 "cells": [
  {
   "cell_type": "markdown",
   "metadata": {},
   "source": [
    "# IMO zadanie 5 - Hybrydowy algorytm ewolucyjny"
   ]
  },
  {
   "cell_type": "markdown",
   "metadata": {},
   "source": [
    "Emilia Maciejewska <br>\n",
    "Anita Zielińska"
   ]
  },
  {
   "cell_type": "code",
   "execution_count": 1,
   "metadata": {},
   "outputs": [],
   "source": [
    "import tsplib95\n",
    "import numpy as np\n",
    "import math\n",
    "import random\n",
    "import matplotlib.pyplot as plt\n",
    "import datetime\n",
    "import statistics"
   ]
  },
  {
   "cell_type": "markdown",
   "metadata": {},
   "source": [
    "## 0. Wczytywanie danych"
   ]
  },
  {
   "cell_type": "code",
   "execution_count": 2,
   "metadata": {},
   "outputs": [],
   "source": [
    "problemA = tsplib95.load(\"kroA200.tsp\")\n",
    "problemA = problemA.as_keyword_dict()"
   ]
  },
  {
   "cell_type": "code",
   "execution_count": 3,
   "metadata": {},
   "outputs": [],
   "source": [
    "problemB = tsplib95.load(\"kroB200.tsp\")\n",
    "problemB = problemB.as_keyword_dict()"
   ]
  },
  {
   "cell_type": "code",
   "execution_count": 4,
   "metadata": {},
   "outputs": [],
   "source": [
    "def create_distance_matrix(data):\n",
    "    dict_length = len(data['NODE_COORD_SECTION'])\n",
    "    distance_matrix = np.zeros((dict_length, dict_length), dtype=int)\n",
    "    for i in range(len(distance_matrix)):\n",
    "        for j in range(len(distance_matrix[i])):\n",
    "            x1 = data['NODE_COORD_SECTION'][i+1]\n",
    "            x2 = data['NODE_COORD_SECTION'][j+1]\n",
    "            d = math.floor(math.sqrt((x1[0]-x2[0])**2 + (x1[1]-x2[1])**2) + 0.5)\n",
    "            distance_matrix[i][j] = d\n",
    "    return distance_matrix"
   ]
  },
  {
   "cell_type": "code",
   "execution_count": 5,
   "metadata": {},
   "outputs": [],
   "source": [
    "distance_matrix_A = create_distance_matrix(problemA)\n",
    "distance_matrix_B = create_distance_matrix(problemB)"
   ]
  },
  {
   "cell_type": "markdown",
   "metadata": {},
   "source": [
    "## 1. Algorytm startowy"
   ]
  },
  {
   "cell_type": "code",
   "execution_count": 122,
   "metadata": {},
   "outputs": [],
   "source": [
    "def selectStartingPoints(id):\n",
    "    if id == 'A':\n",
    "        max_id = len(distance_matrix_A) - 1 \n",
    "    else:\n",
    "        max_id = len(distance_matrix_B) - 1 \n",
    "    p1 = random.randint(0, max_id)\n",
    "    p2 = random.randint(0, max_id)\n",
    "    while p2 == p1:\n",
    "        p2 = random.randint(0, max_id)\n",
    "    return p1, p2"
   ]
  },
  {
   "cell_type": "code",
   "execution_count": 123,
   "metadata": {},
   "outputs": [],
   "source": [
    "def greedy_start(experimentId, p1, p2):\n",
    "    matrix_length = 0\n",
    "    d_matrix = []\n",
    "    if experimentId == 'A':\n",
    "        matrix_length = len(distance_matrix_A) \n",
    "        d_matrix = distance_matrix_A\n",
    "    else:\n",
    "        matrix_length = len(distance_matrix_B)  \n",
    "        d_matrix = distance_matrix_B\n",
    "        \n",
    "    selected = dict()\n",
    "    selected[p1] = 1\n",
    "    selected[p2] = 1\n",
    "    result = [[p1],[p2]]\n",
    "    resultVal = [[0],[0]]\n",
    "    \n",
    "    notSelected = []\n",
    "    for j in range (matrix_length):\n",
    "        if j != p1 and j != p2:\n",
    "            notSelected.append(j)\n",
    "\n",
    "    cycleId = 0\n",
    "    while len(selected) < matrix_length:\n",
    "        newDist = np.inf\n",
    "        newArr = []\n",
    "        newItem = np.inf\n",
    "        \n",
    "        random.shuffle(notSelected)\n",
    "        pr = math.ceil(len(notSelected)*0.1)\n",
    "        \n",
    "        for i in range(pr):\n",
    "            if notSelected[i] not in selected:\n",
    "                for j in range(len(result[cycleId])+1):\n",
    "                    new = result[cycleId][:j]\n",
    "                    new.append(notSelected[i])\n",
    "                    new += result[cycleId][j:]\n",
    "                    dist = 0\n",
    "                    for k in range(1, len(new)):\n",
    "                        dist += d_matrix[new[k-1]][new[k]]\n",
    "                    if dist < newDist:\n",
    "                        newDist = dist\n",
    "                        newArr = new\n",
    "                        newItem = notSelected[i]\n",
    "        result[cycleId] = newArr\n",
    "        resultVal[cycleId] = newDist\n",
    "        selected[newItem] = 1\n",
    "        notSelected.remove(newItem)\n",
    "        if cycleId == 0:\n",
    "            cycleId = 1\n",
    "        else:\n",
    "            cycleId = 0\n",
    "    resultVal[0] += d_matrix[result[0][len(result[0]) - 1]][result[0][0]]\n",
    "    resultVal[1] += d_matrix[result[1][len(result[1]) - 1]][result[1][0]]\n",
    "    result[0].append(result[0][0])\n",
    "    result[1].append(result[1][0])\n",
    "    return result, resultVal"
   ]
  },
  {
   "cell_type": "markdown",
   "metadata": {},
   "source": [
    "## 2. Lokalne przeszukiwanie w wersji stromej (wierzchołki + krawędzie)"
   ]
  },
  {
   "cell_type": "markdown",
   "metadata": {},
   "source": [
    "### 2.1 Sąsiedztwo międzytrasowe wierzchołki"
   ]
  },
  {
   "cell_type": "code",
   "execution_count": 124,
   "metadata": {},
   "outputs": [],
   "source": [
    "def neighborExternalV (experimentId, result):\n",
    "    mat = distance_matrix_A if experimentId == 'A' else distance_matrix_B\n",
    "    delta = np.inf\n",
    "    r = []\n",
    "    aA = np.copy(result[0])\n",
    "    aB = np.copy(result[1])\n",
    "    aA = np.append(aA, aA[1])\n",
    "    aB = np.append(aB, aB[1]) \n",
    "    for i in range(1, len(aA)-1):\n",
    "        for j in range(1, len(aB)-1):\n",
    "            dis1 = mat[aA[i-1]][aA[i]] + mat[aA[i]][aA[i+1]]\n",
    "            dis1 += mat[aB[j-1]][aB[j]] + mat[aB[j]][aB[j+1]]\n",
    "            dis2 = mat[aB[j-1]][aA[i]] + mat[aA[i]][aB[j+1]]\n",
    "            dis2 += mat[aA[i-1]][aB[j]] + mat[aB[j]][aA[i+1]]\n",
    "            d = dis2 - dis1\n",
    "            if d < delta:\n",
    "                delta = d\n",
    "                r = [aA[i], aB[j]]\n",
    "    return delta, r"
   ]
  },
  {
   "cell_type": "markdown",
   "metadata": {},
   "source": [
    "### 2.2 Sąsiedztwo wewnątrztrasowe krawędzie"
   ]
  },
  {
   "cell_type": "code",
   "execution_count": 125,
   "metadata": {},
   "outputs": [],
   "source": [
    "def neighborInternalESingle (mat, aA, delta, r):\n",
    "    for i in range(1, len(aA)):\n",
    "        for j in range(i+1,  len(aA)-1):\n",
    "            if i+1 != j:\n",
    "                dis1 = mat[aA[i-1]][aA[i]] + mat[aA[j]][aA[j+1]]\n",
    "                dis2 = mat[aA[i-1]][aA[j]] + mat[aA[i]][aA[j+1]]\n",
    "                d = dis2 - dis1\n",
    "                if d < 0 and d < delta:\n",
    "                    delta = d\n",
    "                    r = [aA[i], aA[j]]\n",
    "    return delta, r"
   ]
  },
  {
   "cell_type": "code",
   "execution_count": 126,
   "metadata": {},
   "outputs": [],
   "source": [
    "def neighborInternalE (experimentId, result):\n",
    "    mat = distance_matrix_A if experimentId == 'A' else distance_matrix_B\n",
    "    delta = np.inf\n",
    "    r = []\n",
    "    aA = np.copy(result[0])\n",
    "    aB = np.copy(result[1])\n",
    "    delta1, r1 = neighborInternalESingle(mat, aA, delta, r)\n",
    "    delta2, r2 = neighborInternalESingle(mat, aB, delta, r)\n",
    "    if delta1 < delta2:\n",
    "        return delta1, r1, \"0\"\n",
    "    else:\n",
    "        return delta2, r2, \"1\""
   ]
  },
  {
   "cell_type": "markdown",
   "metadata": {},
   "source": [
    "### 2.3 Lokalne przeszukiwanie"
   ]
  },
  {
   "cell_type": "code",
   "execution_count": 127,
   "metadata": {},
   "outputs": [],
   "source": [
    "def steepestE (experimentId, result, resultVal):\n",
    "    mat = distance_matrix_A if experimentId == 'A' else distance_matrix_B\n",
    "    delta = -1\n",
    "    r = []\n",
    "    \n",
    "    while delta < 0:\n",
    "        newResult = [[],[]]\n",
    "        newResultVal = [0, 0]\n",
    "        delta1, r1 = neighborExternalV(experimentId, result)\n",
    "        delta2, r2, cycleId = neighborInternalE(experimentId, result)\n",
    "        if delta1 < delta2: # lepsza była zmiana międzytrasowa\n",
    "            r = r1\n",
    "            for i in range(len(result)):\n",
    "                for j in range(len(result[i])):\n",
    "                    if i == 0 and result[i][j] == r[0]:\n",
    "                        newResult[i].append(r[1])\n",
    "                    elif i == 1 and result[i][j] == r[1]:\n",
    "                        newResult[i].append(r[0])\n",
    "                    else:\n",
    "                        newResult[i].append(result[i][j])\n",
    "                    if len(newResult[i]) > 1:\n",
    "                        newResultVal[i] += mat[newResult[i][-2]][newResult[i][-1]]\n",
    "        else:\n",
    "            r = r2\n",
    "            tempA = []\n",
    "            cycleId = int(cycleId)\n",
    "            index1 = np.where(result[cycleId] == r[0])\n",
    "            index2 = np.where(result[cycleId] == r[1])\n",
    "            tempA = np.copy(result[cycleId])\n",
    "            tempA = tempA[index1[0][0]+1: index2[0][0]]\n",
    "            \n",
    "            if cycleId == 1:\n",
    "                newResultVal[0] = np.copy(resultVal[0])\n",
    "                newResult[0] = np.copy(result[0])\n",
    "            else:\n",
    "                newResultVal[1] = np.copy(resultVal[1])\n",
    "                newResult[1] = np.copy(result[1])\n",
    "            \n",
    "            tempA = np.flip(tempA)\n",
    "            flag = False\n",
    "            ind = 0\n",
    "            for j in range(len(result[cycleId])):\n",
    "                if result[cycleId][j] == r[0]:\n",
    "                    newResult[cycleId].append(r[1])\n",
    "                    ind = 0\n",
    "                    flag = True\n",
    "                elif result[cycleId][j] == r[1]:\n",
    "                    newResult[cycleId].append(r[0])\n",
    "                    flag = False\n",
    "                elif flag == True:\n",
    "                    newResult[cycleId].append(tempA[ind])\n",
    "                    ind +=1\n",
    "                else:\n",
    "                    newResult[cycleId].append(result[cycleId][j])\n",
    "                if len(newResult[cycleId]) > 1:\n",
    "                    newResultVal[cycleId] += mat[newResult[cycleId][-2]][newResult[cycleId][-1]]\n",
    "\n",
    "        delta = newResultVal[0] + newResultVal[1] - resultVal[0] - resultVal[1]\n",
    "        result = np.copy(newResult)\n",
    "        resultVal = np.copy(newResultVal)\n",
    "        \n",
    "    return result, resultVal"
   ]
  },
  {
   "cell_type": "markdown",
   "metadata": {},
   "source": [
    "## 3. Hybrydowy algorytm ewolucyjny (HAE)"
   ]
  },
  {
   "cell_type": "code",
   "execution_count": 190,
   "metadata": {},
   "outputs": [],
   "source": [
    "def repair(experimentId, result):\n",
    "    mat = distance_matrix_A if experimentId == 'A' else distance_matrix_B\n",
    "    matrix_length = len(mat)\n",
    "\n",
    "    selected = dict()\n",
    "    for i in range(len(result)):\n",
    "        for j in range(len(result[i])):\n",
    "            selected[result[i][j]] = 1\n",
    "    resultVal = [[0],[0]]\n",
    "    \n",
    "    cycleId = 0\n",
    "    while len(selected) < matrix_length:\n",
    "        newDist = np.inf\n",
    "        newArr = []\n",
    "        newItem = np.inf\n",
    "        for i in range(matrix_length):\n",
    "            if i not in selected:\n",
    "                for j in range(len(result[cycleId])+1):\n",
    "                    new = result[cycleId][:j]\n",
    "                    new = np.append(new, i)\n",
    "                    new = np.concatenate((new, result[cycleId][j:]))\n",
    "                    new = new.astype(int)\n",
    "                    dist = 0\n",
    "                    for k in range(1, len(new)):\n",
    "                        dist += mat[int(new[k-1])][int(new[k])]\n",
    "                    if dist < newDist:\n",
    "                        newDist = dist\n",
    "                        newArr = new\n",
    "                        newItem = i\n",
    "        result[cycleId] = newArr\n",
    "        resultVal[cycleId] = newDist\n",
    "        selected[newItem] = 1\n",
    "        if cycleId == 0 and len(result[1]) < 100:\n",
    "            cycleId = 1\n",
    "        elif cycleId == 1 and len(result[0]) < 100:\n",
    "            cycleId = 0\n",
    "    resultVal[0] += mat[result[0][len(result[0]) - 1]][result[0][0]]\n",
    "    resultVal[1] += mat[result[1][len(result[1]) - 1]][result[1][0]]\n",
    "    result[0] = np.append(result[0], result[0][0])\n",
    "    result[1] = np.append(result[1], result[1][0])\n",
    "    nResult = np.copy(result)\n",
    "    return nResult, resultVal"
   ]
  },
  {
   "cell_type": "code",
   "execution_count": 218,
   "metadata": {},
   "outputs": [],
   "source": [
    "def hae(experimentId, time_avg=100):\n",
    "    \n",
    "    population_size = 20\n",
    "    population = []\n",
    "    population_val = []\n",
    "    while len(population) < population_size:\n",
    "        p1, p2 = selectStartingPoints(experimentId)\n",
    "        start, startVal = greedy_start(experimentId, p1, p2)\n",
    "        bestR, bestV = steepestE(experimentId, start, startVal)\n",
    "        if (bestV[0]+bestV[1]) not in population_val:\n",
    "            best0 = np.insert(bestR[0], 0, bestR[0][-2])\n",
    "            best1 = np.insert(bestR[1], 0, bestR[1][-2])\n",
    "            population.append([best0, best1])\n",
    "            population_val.append(bestV[0]+bestV[1])\n",
    "    pop = np.array(population)\n",
    "    pop_val = np.array(population_val)\n",
    "    print(\"start val\", pop_val)\n",
    "    start_time = datetime.datetime.now()\n",
    "    execution_time = 0\n",
    "    while execution_time < time_avg:\n",
    "        max_id = len(pop) - 1 \n",
    "        parent1 = random.randint(0, max_id)\n",
    "        parent2 = random.randint(0, max_id)\n",
    "        while parent1 == parent2:\n",
    "            parent2 = random.randint(0, max_id)\n",
    "        newChild = [[],[]]\n",
    "        for i in range (len(pop[parent1])):\n",
    "            for j in range (1, len(pop[parent1][i])-1):\n",
    "                value = pop[parent1][i][j]\n",
    "                p_id = list(zip(*np.where(pop[parent2] == value)))\n",
    "                if len(p_id) == 1:\n",
    "                    if (pop[parent1][i][j-1] == pop[parent2][p_id[0][0]][p_id[0][1]-1] or pop[parent1][i][j+1] == pop[parent2][p_id[0][0]][p_id[0][1]+1]):\n",
    "                        newChild[i].append(value)\n",
    "        newChild1 = np.array(newChild[0])\n",
    "        newChild2 = np.array(newChild[1])\n",
    "        newChildA = [newChild1, newChild2]\n",
    "        if len(newChildA[0])>0 and len(newChildA[1])>0:\n",
    "            newR, newV = repair(experimentId, newChildA)\n",
    "            #newR, newV = steepestE(experimentId, rR, rV)\n",
    "            if newV[0]+newV[1] < np.max(pop_val) and newV[0]+newV[1] not in pop_val :\n",
    "                max_item_d = np.argmax(pop_val)\n",
    "                newB0 = np.insert(newR[0], 0, newR[0][-2])\n",
    "                newB1 = np.insert(newR[1], 0, newR[1][-2])\n",
    "                pop[max_item_d] = [newB0, newB1]\n",
    "                pop_val[max_item_d] = newV[0]+newV[1]\n",
    "\n",
    "        end_time = datetime.datetime.now()    \n",
    "        time_diff = (end_time - start_time)\n",
    "        execution_time = time_diff.total_seconds() * 1000   \n",
    "    min_index = np.argmin(pop_val)\n",
    "    result = pop[min_index]\n",
    "    resultSub1 = result[0][:-1]\n",
    "    resultSub2 = result[1][:-1]\n",
    "    result_val = pop_val[min_index]\n",
    "    print(\"result\", [resultSub1, resultSub2])\n",
    "    print(\"result_val\", result_val)\n",
    "    return [resultSub1, resultSub2], result_val, execution_time  \n"
   ]
  },
  {
   "cell_type": "markdown",
   "metadata": {},
   "source": [
    "## 6. Przygotowanie wyników"
   ]
  },
  {
   "cell_type": "code",
   "execution_count": 202,
   "metadata": {},
   "outputs": [],
   "source": [
    "problemA['NODE_COORD_SECTION']\n",
    "dataA = []\n",
    "for i in range(1, len(problemA['NODE_COORD_SECTION'])+1):\n",
    "    dataA.append(problemA['NODE_COORD_SECTION'][i])\n",
    "dataArrA = np.array(dataA)"
   ]
  },
  {
   "cell_type": "code",
   "execution_count": 203,
   "metadata": {},
   "outputs": [],
   "source": [
    "problemB['NODE_COORD_SECTION']\n",
    "dataB = []\n",
    "for i in range(1, len(problemB['NODE_COORD_SECTION'])+1):\n",
    "    dataB.append(problemB['NODE_COORD_SECTION'][i])\n",
    "dataArrB = np.array(dataB)"
   ]
  },
  {
   "cell_type": "code",
   "execution_count": 204,
   "metadata": {},
   "outputs": [],
   "source": [
    "def print_plot(data, points, title, fileName):\n",
    "    f = plt.figure()\n",
    "    plt.plot(data[:, 0], data[:, 1], \"o\", linewidth=0, alpha=0.4)\n",
    "    plt.plot(data[points[0], 0], data[points[0], 1], \"o\", color='tab:blue',  linewidth=0, alpha=0.6)\n",
    "    plt.plot(data[points[0], 0], data[points[0], 1], \"--\", color=\"tab:cyan\", linewidth=1, alpha=2)\n",
    "    plt.plot(data[points[1], 0], data[points[1], 1], \"o\", color='tab:red',  linewidth=0, alpha=0.6)\n",
    "    plt.plot(data[points[1], 0], data[points[1], 1], \"--\", color=\"tab:orange\", linewidth=1, alpha=2)\n",
    "    plt.xlabel(\"x\")\n",
    "    plt.ylabel(\"y\")\n",
    "    plt.title(title)\n",
    "    plt.grid(False)\n",
    "    \n",
    "    plt.show()\n",
    "    f.savefig(fileName, bbox_inches='tight')"
   ]
  },
  {
   "cell_type": "code",
   "execution_count": 205,
   "metadata": {},
   "outputs": [],
   "source": [
    "def summarizeStart(result, resultVal, title, dataArr):\n",
    "    valueArray = np.array(resultVal)\n",
    "    print(\"wyniki algorytmu\")\n",
    "    print(\"min\", np.min(valueArray))\n",
    "    print(\"max\", np.max(valueArray))\n",
    "    print(\"mean\", np.mean(valueArray))\n",
    "    index = np.argmin(valueArray)\n",
    "    print_plot(dataArr, result[index], title, title + \".png\")\n",
    "    plt.show()"
   ]
  },
  {
   "cell_type": "code",
   "execution_count": 206,
   "metadata": {},
   "outputs": [],
   "source": [
    "def summarize(result, resultVal, timeT, title, dataArr):\n",
    "    valueArray = np.array(resultVal)\n",
    "    timeArray = np.array(timeT)\n",
    "    print(\"wyniki algorytmu\")\n",
    "    print(\"min\", np.min(valueArray))\n",
    "    print(\"max\", np.max(valueArray))\n",
    "    print(\"mean\", np.mean(valueArray))\n",
    "    index = np.argmin(valueArray)\n",
    "    print(index)\n",
    "    print(valueArray)\n",
    "    print(\"czas obliczeń\")\n",
    "    print(\"min\", np.min(timeArray))\n",
    "    print(\"max\", np.max(timeArray))\n",
    "    print(\"mean\", np.mean(timeArray))\n",
    "    print_plot(dataArr, result[index], title, title + \".png\")\n",
    "    plt.show()"
   ]
  },
  {
   "cell_type": "markdown",
   "metadata": {},
   "source": [
    "## 7. Eksperyment A"
   ]
  },
  {
   "cell_type": "code",
   "execution_count": 231,
   "metadata": {},
   "outputs": [],
   "source": [
    "resultHae = []\n",
    "resultValHae = []\n",
    "timeHae = []\n",
    "resultHae1 = []\n",
    "resultValHae1 = []\n",
    "timeHae1 = []"
   ]
  },
  {
   "cell_type": "code",
   "execution_count": 232,
   "metadata": {},
   "outputs": [],
   "source": [
    "def runExperiment(experimentId):\n",
    "    itersNumber = 1\n",
    "    \n",
    "    for i in range(itersNumber):\n",
    "        print(\"nr iteracji \", i)\n",
    "    \n",
    "        #hae\n",
    "        start_time = datetime.datetime.now()\n",
    "        r,v,t = hae(experimentId, 365000) #400000\n",
    "        end_time = datetime.datetime.now()\n",
    "        resultHae.append(r)\n",
    "        resultValHae.append(v)\n",
    "        time_diff = (end_time - start_time)\n",
    "        execution_time = time_diff.total_seconds() * 1000\n",
    "        timeHae.append(t)\n"
   ]
  },
  {
   "cell_type": "code",
   "execution_count": null,
   "metadata": {
    "scrolled": true
   },
   "outputs": [
    {
     "name": "stdout",
     "output_type": "stream",
     "text": [
      "nr iteracji  0\n",
      "start val [38311 34107 35581 36745 36464 36262 37296 37441 39660 35145 35997 36706\n",
      " 35947 36648 34897 37447 37023 37170 36541 36096]\n"
     ]
    }
   ],
   "source": [
    "runExperiment('A')"
   ]
  },
  {
   "cell_type": "code",
   "execution_count": null,
   "metadata": {},
   "outputs": [],
   "source": [
    "summarize(resultHaeB, resultValHaeB, timeHaeB, \"HAE_bez_LS\", dataArrA)\n",
    "#summarize(resultHae1, resultValHae1, timeHae1, \"HAE_bez_LS\", dataArrA)"
   ]
  },
  {
   "cell_type": "markdown",
   "metadata": {},
   "source": [
    "## 8. Eksperyment B"
   ]
  },
  {
   "cell_type": "code",
   "execution_count": 228,
   "metadata": {},
   "outputs": [],
   "source": [
    "resultHaeB = []\n",
    "resultValHaeB = []\n",
    "timeHaeB = []\n",
    "#resultHae1 = []\n",
    "#resultValHae1 = []\n",
    "#timeHae1 = []"
   ]
  },
  {
   "cell_type": "code",
   "execution_count": 229,
   "metadata": {},
   "outputs": [
    {
     "name": "stdout",
     "output_type": "stream",
     "text": [
      "nr iteracji  0\n",
      "start val [38434 37173 37804 35935 38084 37278 36767 37841 38794 37591 35920 37387\n",
      " 36563 39178 35805 36038 34258 38078 38349 37129]\n",
      "result [array([172, 142, 176, 190, 153,  53, 162, 115,  51,  57,  83,   6, 195,\n",
      "       185,  59, 164,  73, 177, 130, 198, 144,  65, 132, 167, 113,  86,\n",
      "        88,  42, 184,  49, 158, 139, 102, 182, 105, 117, 181,  82,   3,\n",
      "         5,  14, 111, 127, 146,  32,  63,  13, 119, 124,  41,  15,   1,\n",
      "       108, 109,  81, 120, 155,  50, 194,  47,  30,  62, 125, 186,  12,\n",
      "       154,  77, 191,  40,  16,  44,  35, 118,  91, 101, 199, 147,  43,\n",
      "       129, 134, 150,  18, 136,  95, 161,  17, 104,  76,  23, 152, 159,\n",
      "       143,  54, 103, 192,  22,  21, 170,  87, 138, 172]), array([ 75,  90, 128,  27,   2, 157,  10,  92, 121,  84,  72,  52, 169,\n",
      "       148,  69, 197,  38,  66, 196,   4, 131, 193,  39, 116, 189, 188,\n",
      "       110,   9, 141, 122,  67,  48,  85, 137, 133, 180,  29,  74, 149,\n",
      "        68,  61,  25,  99,  55, 100, 112,  80, 178,  78, 187,  46, 140,\n",
      "       183,  36,  71, 168, 163, 114,  64, 123, 126,  79,  19,  37, 151,\n",
      "       165, 107,  20,  89,   0,  94,  97, 173,  11, 160,  70,  26,  34,\n",
      "       171, 156,  60, 175, 179,  93,  56,  33,   8,  24,  45, 145, 106,\n",
      "        31, 174, 166,  58, 135,  28,   7,  98,  96,  75])]\n",
      "result_val 33435\n",
      "nr iteracji  1\n",
      "start val [35775 34645 36912 37266 38036 37889 37425 38370 36475 37349 34337 37050\n",
      " 37369 35594 35510 36649 34848 36029 36179 37591]\n",
      "result [array([ 89, 168,   6,  83,  57,  51, 115,  53, 162, 153, 190, 176, 142,\n",
      "       163,  49, 158, 184, 117, 105, 139, 182, 102,   1, 108, 109, 120,\n",
      "       155,  50, 194,  47,  30,  62, 125, 186,  12, 154,  77, 191,  16,\n",
      "        44,  35, 118,  40, 147, 101,  43, 129, 199,  18, 150,  91,  95,\n",
      "       136, 134, 159, 161,  23, 152,  54, 103, 143, 192,  22,  21, 170,\n",
      "        87, 138, 172, 114,  71,  36, 183, 140,  46, 178,  80, 112,  78,\n",
      "       187,  64, 123, 126, 100,  55,  99,  25,  61, 149,  68,  74,  29,\n",
      "       180, 133,  48,  85, 137, 165,  20,  94,   0,  89]), array([  7,  75,  96,  90, 128,  27, 157,   2,  10,  92, 121,  84,  72,\n",
      "       141,   9, 188,  52, 169, 148,  69, 197,  38,  66, 196, 131,   4,\n",
      "       193,  39, 116, 189, 110,  67, 122, 107, 151,  37,  19,  79, 145,\n",
      "        45,   8,  24,  33, 175, 179,  93,  56, 164,  73,  59, 185, 195,\n",
      "        42,  88,  82, 181,  63,  13, 119, 124, 104,  76,  17,  15,  41,\n",
      "        81, 146, 127, 111,  32,  14,   5,   3,  86, 113, 167, 132,  65,\n",
      "       144, 198, 130, 177, 156, 171,  34,  60,  26,  70, 160,  11, 173,\n",
      "        97, 106, 174,  31, 166,  58, 135,  28,  98,   7])]\n",
      "result_val 34337\n"
     ]
    }
   ],
   "source": [
    "runExperiment('B')"
   ]
  },
  {
   "cell_type": "code",
   "execution_count": 230,
   "metadata": {},
   "outputs": [
    {
     "name": "stdout",
     "output_type": "stream",
     "text": [
      "wyniki algorytmu\n",
      "min 33435\n",
      "max 34337\n",
      "mean 33886.0\n",
      "0\n",
      "[33435 34337]\n",
      "czas obliczeń\n",
      "min 366352.781\n",
      "max 379254.437\n",
      "mean 372803.609\n"
     ]
    },
    {
     "data": {
      "image/png": "[encoded data removed]",
      "text/plain": [
       "<Figure size 432x288 with 1 Axes>"
      ]
     },
     "metadata": {
      "needs_background": "light"
     },
     "output_type": "display_data"
    }
   ],
   "source": [
    "summarize(resultHaeB, resultValHaeB, timeHaeB, \"HAE_B_bezLS\", dataArrB)\n",
    "#summarize(resultHae1, resultValHae1, timeHae1, \"HAE_bez_LS_B\", dataArrB)"
   ]
  },
  {
   "cell_type": "code",
   "execution_count": null,
   "metadata": {},
   "outputs": [],
   "source": []
  },
  {
   "cell_type": "code",
   "execution_count": 392,
   "metadata": {},
   "outputs": [],
   "source": [
    "def hae_a(experimentId, time_avg=100):\n",
    "    \n",
    "    population_size = 4\n",
    "    population = []\n",
    "    population_val = []\n",
    "    while len(population) < population_size:\n",
    "        p1, p2 = selectStartingPoints(experimentId)\n",
    "        start, startVal = greedy_start(experimentId, p1, p2)\n",
    "        bestR, bestV = steepestE(experimentId, start, startVal)\n",
    "        if (bestV[0]+bestV[1]) not in population_val:\n",
    "            best0 = np.insert(bestR[0], 0, bestR[0][-1])\n",
    "            best1 = np.insert(bestR[1], 0, bestR[1][-1])\n",
    "            population.append([best0, best1])\n",
    "            population_val.append(bestV[0]+bestV[1])\n",
    "    pop = np.array(population)\n",
    "    pop_val = np.array(population_val)\n",
    "    start_time = datetime.datetime.now()\n",
    "    \n",
    "    execution_time = 0\n",
    "    while execution_time < time_avg:\n",
    "        max_id = len(pop) - 1 \n",
    "        parents = [0,0]\n",
    "        parents[0] = random.randint(0, max_id)\n",
    "        parents[1] = random.randint(0, max_id)\n",
    "        while parents[1] == parents[0]:\n",
    "            parents[1] = random.randint(0, max_id)\n",
    "        newChild = [[],[]]\n",
    "        for parentId in range(0, 2):\n",
    "            nextParent = 0 if parentId == 1 else 1\n",
    "            for x in range(1, len(pop[parents[parentId]][parentId])-1):\n",
    "                value = pop[parents[parentId]][parentId][x] #obecnie sprawdzany nr wierzchołka\n",
    "                p_id = list(zip(*np.where(pop[parents[nextParent]] == value)))\n",
    "                if len(p_id) == 1:\n",
    "                    if (pop[parents[parentId]][parentId][x-1] == pop[parents[nextParent]][p_id[0][0]][p_id[0][1]-1] and pop[parents[parentId]][parentId][x+1] == pop[parents[nextParent]][p_id[0][0]][p_id[0][1]+1]):\n",
    "                        newChild[parentId].append(value)\n",
    "        newChildA = np.array(newChild)\n",
    "        if len(newChildA[0])>0 and len(newChildA[1])>0:\n",
    "            newR, newV = repair(experimentId, newChildA)\n",
    "            if newV[0]+newV[1] < np.max(pop_val) and newV[0]+newV[1] not in pop_val :\n",
    "                max_item_d = np.argmax(pop_val)\n",
    "                pop[max_item_d] = newR\n",
    "                pop_val[max_item_d] = newV[0]+newV[1]\n",
    "\n",
    "        end_time = datetime.datetime.now()    \n",
    "        time_diff = (end_time - start_time)\n",
    "        execution_time = time_diff.total_seconds() * 1000   \n",
    "    min_index = np.argmin(pop_val)\n",
    "    result = pop[min_index]\n",
    "    result_val = pop_val[min_index]\n",
    "    return result, result_val, execution_time  \n"
   ]
  }
 ],
 "metadata": {
  "kernelspec": {
   "display_name": "Python 3",
   "language": "python",
   "name": "python3"
  },
  "language_info": {
   "codemirror_mode": {
    "name": "ipython",
    "version": 3
   },
   "file_extension": ".py",
   "mimetype": "text/x-python",
   "name": "python",
   "nbconvert_exporter": "python",
   "pygments_lexer": "ipython3",
   "version": "3.7.4"
  }
 },
 "nbformat": 4,
 "nbformat_minor": 2
}
