{
 "cells": [
  {
   "cell_type": "markdown",
   "metadata": {},
   "source": [
    "# IMO zadanie 7 - Własna metoda\n",
    "ILS, greedy cycle, usuwanie wierzchołków trójkami"
   ]
  },
  {
   "cell_type": "markdown",
   "metadata": {},
   "source": [
    "Emilia Maciejewska 136764<br>"
   ]
  },
  {
   "cell_type": "code",
   "execution_count": 1,
   "metadata": {},
   "outputs": [],
   "source": [
    "import tsplib95\n",
    "import numpy as np\n",
    "import math\n",
    "import random\n",
    "import matplotlib.pyplot as plt\n",
    "import datetime\n",
    "import statistics"
   ]
  },
  {
   "cell_type": "markdown",
   "metadata": {},
   "source": [
    "## 0. Wczytywanie danych"
   ]
  },
  {
   "cell_type": "code",
   "execution_count": 2,
   "metadata": {},
   "outputs": [],
   "source": [
    "problemA = tsplib95.load(\"kroA200.tsp\")\n",
    "problemA = problemA.as_keyword_dict()"
   ]
  },
  {
   "cell_type": "code",
   "execution_count": 3,
   "metadata": {},
   "outputs": [],
   "source": [
    "problemB = tsplib95.load(\"kroB200.tsp\")\n",
    "problemB = problemB.as_keyword_dict()"
   ]
  },
  {
   "cell_type": "code",
   "execution_count": 4,
   "metadata": {},
   "outputs": [],
   "source": [
    "def create_distance_matrix(data):\n",
    "    dict_length = len(data['NODE_COORD_SECTION'])\n",
    "    distance_matrix = np.zeros((dict_length, dict_length), dtype=int)\n",
    "    for i in range(len(distance_matrix)):\n",
    "        for j in range(len(distance_matrix[i])):\n",
    "            x1 = data['NODE_COORD_SECTION'][i+1]\n",
    "            x2 = data['NODE_COORD_SECTION'][j+1]\n",
    "            d = math.floor(math.sqrt((x1[0]-x2[0])**2 + (x1[1]-x2[1])**2) + 0.5)\n",
    "            distance_matrix[i][j] = d\n",
    "    return distance_matrix"
   ]
  },
  {
   "cell_type": "code",
   "execution_count": 5,
   "metadata": {},
   "outputs": [],
   "source": [
    "distance_matrix_A = create_distance_matrix(problemA)\n",
    "distance_matrix_B = create_distance_matrix(problemB)"
   ]
  },
  {
   "cell_type": "markdown",
   "metadata": {},
   "source": [
    "## 1. Algorytm startowy"
   ]
  },
  {
   "cell_type": "code",
   "execution_count": 6,
   "metadata": {},
   "outputs": [],
   "source": [
    "def selectStartingPoints(id):\n",
    "    if id == 'A':\n",
    "        max_id = max_id = len(distance_matrix_A) - 1 \n",
    "    else:\n",
    "        max_id = max_id = len(distance_matrix_B) - 1 \n",
    "    p1 = random.randint(0, max_id)\n",
    "    p2 = random.randint(0, max_id)\n",
    "    while p2 == p1:\n",
    "        p2 = random.randint(0, max_id)\n",
    "    return p1, p2"
   ]
  },
  {
   "cell_type": "code",
   "execution_count": 7,
   "metadata": {},
   "outputs": [],
   "source": [
    "def selectP(experimentId):\n",
    "    p1 = 0\n",
    "    p2 = 0\n",
    "    while True:\n",
    "        p1, p2 = selectStartingPoints(experimentId)\n",
    "        sId1 = str(p1)+\",\"+str(p2)\n",
    "        sId2 = str(p2)+\",\"+str(p1)\n",
    "        if sId1 not in startingPoints and sId2 not in startingPoints:\n",
    "            startingPoints[sId1] = 1\n",
    "            break\n",
    "    return p1, p2"
   ]
  },
  {
   "cell_type": "code",
   "execution_count": 8,
   "metadata": {},
   "outputs": [],
   "source": [
    "def find_first_cycle(experimentId, p, matrix_length, selected):\n",
    "    \n",
    "    d_matrix = []\n",
    "    if experimentId == 'A':\n",
    "        d_matrix = distance_matrix_A \n",
    "    else:\n",
    "        d_matrix = distance_matrix_B\n",
    "    minV = np.inf\n",
    "    minId = p\n",
    "    for i in range(matrix_length):\n",
    "        if i not in selected:\n",
    "            if d_matrix[p][i] < minV:\n",
    "                minV = d_matrix[p][i]\n",
    "                minId = i\n",
    "    return minV, minId"
   ]
  },
  {
   "cell_type": "code",
   "execution_count": 9,
   "metadata": {},
   "outputs": [],
   "source": [
    "def greedy_start(experimentId, p1, p2):\n",
    "    matrix_length = 0\n",
    "    d_matrix = []\n",
    "    if experimentId == 'A':\n",
    "        matrix_length = len(distance_matrix_A) \n",
    "        d_matrix = distance_matrix_A\n",
    "    else:\n",
    "        matrix_length = len(distance_matrix_B)  \n",
    "        d_matrix = distance_matrix_B\n",
    "        \n",
    "    selected = dict()\n",
    "    selected[p1] = 1\n",
    "    selected[p2] = 1\n",
    "    result = [[p1],[p2]]\n",
    "    resultVal = [[0],[0]]\n",
    "    \n",
    "    minV, minId1 = find_first_cycle(experimentId, p1, matrix_length, selected)\n",
    "    selected[minId1] = 1\n",
    "    result[0].append(minId1)\n",
    "    resultVal[0] = minV\n",
    "\n",
    "    minV, minId = find_first_cycle(experimentId, p2, matrix_length, selected)\n",
    "    selected[minId] = 1\n",
    "    result[1].append(minId)\n",
    "    resultVal[1] = minV    \n",
    "    \n",
    "    notSelected = []\n",
    "    for j in range (matrix_length):\n",
    "        if j != p1 and j != p2 and j != minId1 and j != minId:\n",
    "            notSelected.append(j)\n",
    "\n",
    "    cycleId = 0\n",
    "    while len(selected) < matrix_length:\n",
    "        newDist = np.inf\n",
    "        newArr = []\n",
    "        newItem = np.inf\n",
    "        \n",
    "        random.shuffle(notSelected)\n",
    "        pr = math.ceil(len(notSelected)*0.1)\n",
    "        \n",
    "        for i in range(pr):\n",
    "            if notSelected[i] not in selected:\n",
    "                for j in range(len(result[cycleId])+1):\n",
    "                    new = result[cycleId][:j]\n",
    "                    new.append(notSelected[i])\n",
    "                    new += result[cycleId][j:]\n",
    "                    dist = 0\n",
    "                    for k in range(1, len(new)):\n",
    "                        dist += d_matrix[new[k-1]][new[k]]\n",
    "                    dist += d_matrix[new[len(new) - 1]][new[0]]\n",
    "                    if dist < newDist:\n",
    "                        newDist = dist\n",
    "                        newArr = new\n",
    "                        newItem = notSelected[i]\n",
    "        result[cycleId] = newArr\n",
    "        resultVal[cycleId] = newDist\n",
    "        selected[newItem] = 1\n",
    "        notSelected.remove(newItem)\n",
    "        if cycleId == 0:\n",
    "            cycleId = 1\n",
    "        else:\n",
    "            cycleId = 0\n",
    "    result[0].append(result[0][0])\n",
    "    result[1].append(result[1][0])\n",
    "    return result, resultVal"
   ]
  },
  {
   "cell_type": "markdown",
   "metadata": {},
   "source": [
    "## 2. Lokalne przeszukiwanie w wersji stromej (wierzchołki + krawędzie)"
   ]
  },
  {
   "cell_type": "markdown",
   "metadata": {},
   "source": [
    "### 2.1 Sąsiedztwo międzytrasowe wierzchołki"
   ]
  },
  {
   "cell_type": "code",
   "execution_count": 10,
   "metadata": {},
   "outputs": [],
   "source": [
    "def neighborExternalV (experimentId, result):\n",
    "    mat = distance_matrix_A if experimentId == 'A' else distance_matrix_B\n",
    "    delta = np.inf\n",
    "    r = []\n",
    "    aA = np.copy(result[0])\n",
    "    aB = np.copy(result[1])\n",
    "    aA = np.append(aA, aA[1])\n",
    "    aB = np.append(aB, aB[1]) \n",
    "    for i in range(1, len(aA)-1):\n",
    "        for j in range(1, len(aB)-1):\n",
    "            dis1 = mat[aA[i-1]][aA[i]] + mat[aA[i]][aA[i+1]]\n",
    "            dis1 += mat[aB[j-1]][aB[j]] + mat[aB[j]][aB[j+1]]\n",
    "            dis2 = mat[aB[j-1]][aA[i]] + mat[aA[i]][aB[j+1]]\n",
    "            dis2 += mat[aA[i-1]][aB[j]] + mat[aB[j]][aA[i+1]]\n",
    "            d = dis2 - dis1\n",
    "            if d < delta:\n",
    "                delta = d\n",
    "                r = [aA[i], aB[j]]\n",
    "    return delta, r"
   ]
  },
  {
   "cell_type": "markdown",
   "metadata": {},
   "source": [
    "### 2.2 Sąsiedztwo wewnątrztrasowe krawędzie"
   ]
  },
  {
   "cell_type": "code",
   "execution_count": 11,
   "metadata": {},
   "outputs": [],
   "source": [
    "def neighborInternalESingle (mat, aA, delta, r):\n",
    "    for i in range(1, len(aA)):\n",
    "        for j in range(i+1,  len(aA)-1):\n",
    "            if i+1 != j:\n",
    "                dis1 = mat[aA[i-1]][aA[i]] + mat[aA[j]][aA[j+1]]\n",
    "                dis2 = mat[aA[i-1]][aA[j]] + mat[aA[i]][aA[j+1]]\n",
    "                d = dis2 - dis1\n",
    "                if d < 0 and d < delta:\n",
    "                    delta = d\n",
    "                    r = [aA[i], aA[j]]\n",
    "    return delta, r"
   ]
  },
  {
   "cell_type": "code",
   "execution_count": 12,
   "metadata": {},
   "outputs": [],
   "source": [
    "def neighborInternalE (experimentId, result):\n",
    "    mat = distance_matrix_A if experimentId == 'A' else distance_matrix_B\n",
    "    delta = np.inf\n",
    "    r = []\n",
    "    aA = np.copy(result[0])\n",
    "    aB = np.copy(result[1])\n",
    "    delta1, r1 = neighborInternalESingle(mat, aA, delta, r)\n",
    "    delta2, r2 = neighborInternalESingle(mat, aB, delta, r)\n",
    "    if delta1 < delta2:\n",
    "        return delta1, r1, \"0\"\n",
    "    else:\n",
    "        return delta2, r2, \"1\""
   ]
  },
  {
   "cell_type": "markdown",
   "metadata": {},
   "source": [
    "### 2.3 Lokalne przeszukiwanie"
   ]
  },
  {
   "cell_type": "code",
   "execution_count": 13,
   "metadata": {},
   "outputs": [],
   "source": [
    "def steepestE (experimentId, result, resultVal):\n",
    "    mat = distance_matrix_A if experimentId == 'A' else distance_matrix_B\n",
    "    delta = -1\n",
    "    r = []\n",
    "    \n",
    "    while delta < 0:\n",
    "        newResult = [[],[]]\n",
    "        newResultVal = [0, 0]\n",
    "        delta1, r1 = neighborExternalV(experimentId, result)\n",
    "        delta2, r2, cycleId = neighborInternalE(experimentId, result)\n",
    "        if delta1 < delta2: # lepsza była zmiana międzytrasowa\n",
    "            r = r1\n",
    "            for i in range(len(result)):\n",
    "                for j in range(len(result[i])):\n",
    "                    if i == 0 and result[i][j] == r[0]:\n",
    "                        newResult[i].append(r[1])\n",
    "                    elif i == 1 and result[i][j] == r[1]:\n",
    "                        newResult[i].append(r[0])\n",
    "                    else:\n",
    "                        newResult[i].append(result[i][j])\n",
    "                    if len(newResult[i]) > 1:\n",
    "                        newResultVal[i] += mat[newResult[i][-2]][newResult[i][-1]]\n",
    "        else:\n",
    "            r = r2\n",
    "            tempA = []\n",
    "            cycleId = int(cycleId)\n",
    "            index1 = np.where(result[cycleId] == r[0])\n",
    "            index2 = np.where(result[cycleId] == r[1])\n",
    "            tempA = np.copy(result[cycleId])\n",
    "            tempA = tempA[index1[0][0]+1: index2[0][0]]\n",
    "            \n",
    "            if cycleId == 1:\n",
    "                newResultVal[0] = np.copy(resultVal[0])\n",
    "                newResult[0] = np.copy(result[0])\n",
    "            else:\n",
    "                newResultVal[1] = np.copy(resultVal[1])\n",
    "                newResult[1] = np.copy(result[1])\n",
    "            \n",
    "            tempA = np.flip(tempA)\n",
    "            flag = False\n",
    "            ind = 0\n",
    "            for j in range(len(result[cycleId])):\n",
    "                if result[cycleId][j] == r[0]:\n",
    "                    newResult[cycleId].append(r[1])\n",
    "                    ind = 0\n",
    "                    flag = True\n",
    "                elif result[cycleId][j] == r[1]:\n",
    "                    newResult[cycleId].append(r[0])\n",
    "                    flag = False\n",
    "                elif flag == True:\n",
    "                    newResult[cycleId].append(tempA[ind])\n",
    "                    ind +=1\n",
    "                else:\n",
    "                    newResult[cycleId].append(result[cycleId][j])\n",
    "                if len(newResult[cycleId]) > 1:\n",
    "                    newResultVal[cycleId] += mat[newResult[cycleId][-2]][newResult[cycleId][-1]]\n",
    "\n",
    "        delta = newResultVal[0] + newResultVal[1] - resultVal[0] - resultVal[1]\n",
    "        result = np.copy(newResult)\n",
    "        resultVal = np.copy(newResultVal)\n",
    "        \n",
    "    return result, resultVal"
   ]
  },
  {
   "cell_type": "markdown",
   "metadata": {},
   "source": [
    "## 5. Iterated local search (ILS2)"
   ]
  },
  {
   "cell_type": "markdown",
   "metadata": {},
   "source": [
    "**Iteracyjne przeszukiwanie lokalne z Large-scale neighborhood search**"
   ]
  },
  {
   "cell_type": "code",
   "execution_count": 34,
   "metadata": {},
   "outputs": [],
   "source": [
    "def destroy(result):\n",
    "    aA = np.copy(result[0][:-1])\n",
    "    aB = np.copy(result[1][:-1])\n",
    "    pA = np.arange(0, len(aA)-3, 3)\n",
    "    pB = np.arange(0, len(aB)-3, 3)\n",
    "    np.random.shuffle(pA)\n",
    "    np.random.shuffle(pB)\n",
    "    partA = pA[0:7]\n",
    "    partB = pB[0:7]\n",
    "    partA1 = partA + 1\n",
    "    partB1 = partB + 1\n",
    "    partA2 = partA + 2\n",
    "    partB2 = partB + 2\n",
    "    fullA = np.concatenate((partA, partA1, partA2), axis=None)\n",
    "    fullB = np.concatenate((partB, partB1, partB2), axis=None)\n",
    "    fullA = np.sort(fullA) \n",
    "    fullB = np.sort(fullB)\n",
    "    new_aA = np.delete(aA, fullA)\n",
    "    new_aB = np.delete(aB, fullB)\n",
    "    \n",
    "    return [new_aA, new_aB]"
   ]
  },
  {
   "cell_type": "code",
   "execution_count": 15,
   "metadata": {},
   "outputs": [],
   "source": [
    "def repair(experimentId, result):\n",
    "    mat = distance_matrix_A if experimentId == 'A' else distance_matrix_B\n",
    "    matrix_length = len(mat)\n",
    "\n",
    "    selected = dict()\n",
    "    for i in range(len(result)):\n",
    "        for j in range(len(result[i])):\n",
    "            selected[result[i][j]] = 1\n",
    "    resultVal = [[0],[0]]\n",
    "    \n",
    "    cycleId = 0\n",
    "    while len(selected) < matrix_length:\n",
    "        newDist = np.inf\n",
    "        newArr = []\n",
    "        newItem = np.inf\n",
    "        for i in range(matrix_length):\n",
    "            if i not in selected:\n",
    "                for j in range(len(result[cycleId])+1):\n",
    "                    new = result[cycleId][:j]\n",
    "                    new = np.append(new, i)\n",
    "                    new = np.concatenate((new, result[cycleId][j:]))\n",
    "                    dist = 0\n",
    "                    for k in range(1, len(new)):\n",
    "                        dist += mat[new[k-1]][new[k]]\n",
    "                    dist += mat[new[len(new) - 1]][new[0]]\n",
    "                    if dist < newDist:\n",
    "                        newDist = dist\n",
    "                        newArr = new\n",
    "                        newItem = i\n",
    "        result[cycleId] = newArr\n",
    "        resultVal[cycleId] = newDist\n",
    "        selected[newItem] = 1\n",
    "        if cycleId == 0:\n",
    "            cycleId = 1\n",
    "        else:\n",
    "            cycleId = 0\n",
    "    result[0] = np.append(result[0], result[0][0])\n",
    "    result[1] = np.append(result[1], result[1][0])\n",
    "    return result, resultVal"
   ]
  },
  {
   "cell_type": "code",
   "execution_count": 16,
   "metadata": {},
   "outputs": [],
   "source": [
    "def ils2a(experimentId, p1, p2, t):\n",
    "    start_time = datetime.datetime.now()\n",
    "    start, startVal = greedy_start(experimentId, p1, p2)\n",
    "    bestR, bestV = steepestE(experimentId, start, startVal)\n",
    "    end_time = datetime.datetime.now()\n",
    "    time_diff = (end_time - start_time)\n",
    "    e_t = time_diff.total_seconds() * 1000\n",
    "    while e_t < t:\n",
    "        pD = destroy(bestR)\n",
    "        pRr, pRv = repair(experimentId, pD)\n",
    "        newR, newV = steepestE(experimentId, pRr, pRv)\n",
    "        if newV[0]+newV[1] < bestV[0]+bestV[1]:\n",
    "            bestR = newR\n",
    "            bestV = newV\n",
    "        end_time = datetime.datetime.now()\n",
    "        time_diff = (end_time - start_time)\n",
    "        e_t = time_diff.total_seconds() * 1000\n",
    "    return bestR, bestV[0]+bestV[1], e_t  "
   ]
  },
  {
   "cell_type": "code",
   "execution_count": 17,
   "metadata": {},
   "outputs": [],
   "source": [
    "def ils2c(experimentId, p1, p2, t):\n",
    "    start_time = datetime.datetime.now()\n",
    "    start, startVal = greedy_start(experimentId, p1, p2)\n",
    "    bestR, bestV = steepestE(experimentId, start, startVal)\n",
    "    end_time = datetime.datetime.now()\n",
    "    time_diff = (end_time - start_time)\n",
    "    e_t = time_diff.total_seconds() * 1000\n",
    "    while e_t < t:\n",
    "        pD = destroy(bestR)\n",
    "        newR, newV = repair(experimentId, pD)\n",
    "        if newV[0]+newV[1] < bestV[0]+bestV[1]:\n",
    "            bestR = newR\n",
    "            bestV = newV\n",
    "        end_time = datetime.datetime.now()\n",
    "        time_diff = (end_time - start_time)\n",
    "        e_t = time_diff.total_seconds() * 1000\n",
    "    return bestR, bestV[0]+bestV[1], e_t "
   ]
  },
  {
   "cell_type": "markdown",
   "metadata": {},
   "source": [
    "## 6. Przygotowanie wyników"
   ]
  },
  {
   "cell_type": "code",
   "execution_count": 18,
   "metadata": {},
   "outputs": [],
   "source": [
    "problemA['NODE_COORD_SECTION']\n",
    "dataA = []\n",
    "for i in range(1, len(problemA['NODE_COORD_SECTION'])+1):\n",
    "    dataA.append(problemA['NODE_COORD_SECTION'][i])\n",
    "dataArrA = np.array(dataA)"
   ]
  },
  {
   "cell_type": "code",
   "execution_count": 19,
   "metadata": {},
   "outputs": [],
   "source": [
    "problemB['NODE_COORD_SECTION']\n",
    "dataB = []\n",
    "for i in range(1, len(problemB['NODE_COORD_SECTION'])+1):\n",
    "    dataB.append(problemB['NODE_COORD_SECTION'][i])\n",
    "dataArrB = np.array(dataB)"
   ]
  },
  {
   "cell_type": "code",
   "execution_count": 20,
   "metadata": {},
   "outputs": [],
   "source": [
    "def print_plot(data, points, title, fileName):\n",
    "    f = plt.figure()\n",
    "    plt.plot(data[:, 0], data[:, 1], \"o\", linewidth=0, alpha=0.4)\n",
    "    plt.plot(data[points[0], 0], data[points[0], 1], \"o\", color='tab:blue',  linewidth=0, alpha=0.6)\n",
    "    plt.plot(data[points[0], 0], data[points[0], 1], \"--\", color=\"tab:cyan\", linewidth=1, alpha=2)\n",
    "    plt.plot(data[points[1], 0], data[points[1], 1], \"o\", color='tab:red',  linewidth=0, alpha=0.6)\n",
    "    plt.plot(data[points[1], 0], data[points[1], 1], \"--\", color=\"tab:orange\", linewidth=1, alpha=2)\n",
    "    plt.xlabel(\"x\")\n",
    "    plt.ylabel(\"y\")\n",
    "    plt.title(title)\n",
    "    plt.grid(False)\n",
    "    \n",
    "    plt.show()\n",
    "    f.savefig(fileName, bbox_inches='tight')"
   ]
  },
  {
   "cell_type": "code",
   "execution_count": 21,
   "metadata": {},
   "outputs": [],
   "source": [
    "def summarizeStart(result, resultVal, title, dataArr):\n",
    "    valueArray = np.array(resultVal)\n",
    "    print(\"wyniki algorytmu\")\n",
    "    print(\"min\", np.min(valueArray))\n",
    "    print(\"max\", np.max(valueArray))\n",
    "    print(\"mean\", np.mean(valueArray))\n",
    "    index = np.argmin(valueArray)\n",
    "    print_plot(dataArr, result[index], title, title + \".png\")\n",
    "    plt.show()"
   ]
  },
  {
   "cell_type": "code",
   "execution_count": 22,
   "metadata": {},
   "outputs": [],
   "source": [
    "def summarize(result, resultVal, timeT, title, dataArr):\n",
    "    valueArray = np.array(resultVal)\n",
    "    timeArray = np.array(timeT)\n",
    "    print(\"wyniki algorytmu\")\n",
    "    print(\"min\", np.min(valueArray))\n",
    "    print(\"max\", np.max(valueArray))\n",
    "    print(\"mean\", np.mean(valueArray))\n",
    "    index = np.argmin(valueArray)\n",
    "    print(index)\n",
    "    print(valueArray)\n",
    "    print(\"czas obliczeń\")\n",
    "    print(\"min\", np.min(timeArray))\n",
    "    print(\"max\", np.max(timeArray))\n",
    "    print(\"mean\", np.mean(timeArray))\n",
    "    print_plot(dataArr, result[index], title, title + \".png\")\n",
    "    plt.show()"
   ]
  },
  {
   "cell_type": "markdown",
   "metadata": {},
   "source": [
    "## 7. Eksperyment A"
   ]
  },
  {
   "cell_type": "code",
   "execution_count": 35,
   "metadata": {},
   "outputs": [],
   "source": [
    "resultS = []\n",
    "resultSV = []\n",
    "\n",
    "result1 = []\n",
    "resultVal1 = []\n",
    "time1 = []\n",
    "\n",
    "result2 = []\n",
    "resultVal2 = []\n",
    "time2 = []\n",
    "startingPoints = dict()"
   ]
  },
  {
   "cell_type": "code",
   "execution_count": 36,
   "metadata": {},
   "outputs": [],
   "source": [
    "def runILS2a(experimentId):\n",
    "    m_t = 365000\n",
    "    itersNumber = 10    \n",
    "    for i in range(itersNumber):\n",
    "        print(\"nr iteracji\", i)\n",
    "        #ils2\n",
    "        p1, p2 = selectP(experimentId)\n",
    "        r,v,t = ils2a(experimentId, p1, p2, m_t)\n",
    "        print(v)\n",
    "        result4.append(r)\n",
    "        resultVal4.append(v)\n",
    "        time4.append(t) "
   ]
  },
  {
   "cell_type": "code",
   "execution_count": 37,
   "metadata": {},
   "outputs": [
    {
     "name": "stdout",
     "output_type": "stream",
     "text": [
      "nr iteracji 0\n",
      "32428\n",
      "nr iteracji 1\n",
      "31602\n",
      "nr iteracji 2\n",
      "31046\n",
      "nr iteracji 3\n",
      "31704\n",
      "nr iteracji 4\n",
      "32202\n",
      "nr iteracji 5\n",
      "31715\n",
      "nr iteracji 6\n",
      "32465\n",
      "nr iteracji 7\n",
      "31939\n",
      "nr iteracji 8\n",
      "33026\n",
      "nr iteracji 9\n",
      "32162\n",
      "wyniki algorytmu\n",
      "min 31046\n",
      "max 33026\n",
      "mean 32028.9\n",
      "2\n",
      "[32428 31602 31046 31704 32202 31715 32465 31939 33026 32162]\n",
      "czas obliczeń\n",
      "min 365065.531\n",
      "max 373059.485\n",
      "mean 368941.0108\n"
     ]
    },
    {
     "data": {
      "image/png": "[encoded data removed]",
      "text/plain": [
       "<Figure size 432x288 with 1 Axes>"
      ]
     },
     "metadata": {
      "needs_background": "light"
     },
     "output_type": "display_data"
    }
   ],
   "source": [
    "result4 = []\n",
    "resultVal4 = []\n",
    "time4 = []\n",
    "startingPoints = dict()\n",
    "\n",
    "runILS2a('A')\n",
    "summarize(result4, resultVal4, time4, \"ILS2a\", dataArrA)"
   ]
  },
  {
   "cell_type": "code",
   "execution_count": 38,
   "metadata": {},
   "outputs": [],
   "source": [
    "def runILS2c(experimentId):\n",
    "    m_t = 365000\n",
    "\n",
    "    itersNumber = 10    \n",
    "    for i in range(itersNumber):\n",
    "        print(\"nr iteracji\", i)\n",
    "        #ils2\n",
    "        p1, p2 = selectP(experimentId)\n",
    "        r,v,t = ils2c(experimentId, p1, p2, m_t)\n",
    "        print(v)\n",
    "        result6.append(r)\n",
    "        resultVal6.append(v)\n",
    "        time6.append(t) "
   ]
  },
  {
   "cell_type": "code",
   "execution_count": 39,
   "metadata": {},
   "outputs": [
    {
     "name": "stdout",
     "output_type": "stream",
     "text": [
      "nr iteracji 0\n",
      "35593\n",
      "nr iteracji 1\n",
      "34583\n",
      "nr iteracji 2\n",
      "35038\n",
      "nr iteracji 3\n",
      "32346\n",
      "nr iteracji 4\n",
      "33374\n",
      "nr iteracji 5\n",
      "33695\n",
      "nr iteracji 6\n",
      "33988\n",
      "nr iteracji 7\n",
      "31770\n",
      "nr iteracji 8\n",
      "33208\n",
      "nr iteracji 9\n",
      "34647\n",
      "wyniki algorytmu\n",
      "min 31770\n",
      "max 35593\n",
      "mean 33824.2\n",
      "7\n",
      "[35593 34583 35038 32346 33374 33695 33988 31770 33208 34647]\n",
      "czas obliczeń\n",
      "min 365666.19100000005\n",
      "max 372158.44499999995\n",
      "mean 368455.442\n"
     ]
    },
    {
     "data": {
      "image/png": "[encoded data removed]",
      "text/plain": [
       "<Figure size 432x288 with 1 Axes>"
      ]
     },
     "metadata": {
      "needs_background": "light"
     },
     "output_type": "display_data"
    }
   ],
   "source": [
    "result6 = []\n",
    "resultVal6 = []\n",
    "time6 = []\n",
    "startingPoints = dict()\n",
    "\n",
    "runILS2c('A')\n",
    "summarize(result6, resultVal6, time6, \"ILS2c\", dataArrA)"
   ]
  },
  {
   "cell_type": "markdown",
   "metadata": {},
   "source": [
    "## 8. Eksperyment B"
   ]
  },
  {
   "cell_type": "code",
   "execution_count": null,
   "metadata": {},
   "outputs": [],
   "source": [
    "result4 = []\n",
    "resultVal4 = []\n",
    "time4 = []\n",
    "startingPoints = dict()\n",
    "\n",
    "runILS2a('B')\n",
    "summarize(result4, resultVal4, time4, \"ILS2a_B\", dataArrB)"
   ]
  },
  {
   "cell_type": "code",
   "execution_count": null,
   "metadata": {},
   "outputs": [],
   "source": [
    "result6 = []\n",
    "resultVal6 = []\n",
    "time6 = []\n",
    "startingPoints = dict()\n",
    "\n",
    "runILS2c('B')\n",
    "summarize(result6, resultVal6, time6, \"ILS2c_B\", dataArrB)"
   ]
  },
  {
   "cell_type": "code",
   "execution_count": null,
   "metadata": {},
   "outputs": [],
   "source": []
  }
 ],
 "metadata": {
  "kernelspec": {
   "display_name": "Python 3",
   "language": "python",
   "name": "python3"
  },
  "language_info": {
   "codemirror_mode": {
    "name": "ipython",
    "version": 3
   },
   "file_extension": ".py",
   "mimetype": "text/x-python",
   "name": "python",
   "nbconvert_exporter": "python",
   "pygments_lexer": "ipython3",
   "version": "3.7.4"
  }
 },
 "nbformat": 4,
 "nbformat_minor": 2
}
